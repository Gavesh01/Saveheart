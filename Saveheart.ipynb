{
  "cells": [
    {
      "cell_type": "markdown",
      "metadata": {
        "id": "view-in-github",
        "colab_type": "text"
      },
      "source": [
        "<a href=\"https://colab.research.google.com/github/Gavesh01/Saveheart/blob/main/Saveheart.ipynb\" target=\"_parent\"><img src=\"https://colab.research.google.com/assets/colab-badge.svg\" alt=\"Open In Colab\"/></a>"
      ]
    },
    {
      "cell_type": "markdown",
      "metadata": {
        "id": "dveudJXNJ3Dw"
      },
      "source": [
        "## **Section 1: Data Preprocessing**"
      ]
    },
    {
      "cell_type": "markdown",
      "metadata": {
        "id": "LYrk6SWibcu6"
      },
      "source": [
        "1. Import Libraries\n",
        "\n"
      ]
    },
    {
      "cell_type": "code",
      "source": [
        "# Install required libraries\n",
        "!pip install pandas numpy==1.23.5 imbalanced-learn matplotlib seaborn\n",
        "\n",
        "# Import libraries\n",
        "import pandas as pd\n",
        "import numpy as np\n",
        "import matplotlib.pyplot as plt\n",
        "import seaborn as sns\n",
        "from sklearn.model_selection import train_test_split, RepeatedStratifiedKFold, cross_val_score\n",
        "from sklearn.preprocessing import LabelEncoder, StandardScaler\n",
        "from sklearn.metrics import accuracy_score, confusion_matrix, classification_report, roc_auc_score, ConfusionMatrixDisplay\n",
        "from sklearn.tree import DecisionTreeClassifier\n",
        "from sklearn.linear_model import LogisticRegression\n",
        "from sklearn.ensemble import RandomForestClassifier\n",
        "from imblearn.over_sampling import SMOTE\n"
      ],
      "metadata": {
        "id": "54izvKdY1Wzz",
        "colab": {
          "base_uri": "https://localhost:8080/"
        },
        "outputId": "92976753-661d-442b-8499-feb69b0ff4fa"
      },
      "execution_count": null,
      "outputs": [
        {
          "output_type": "stream",
          "name": "stdout",
          "text": [
            "Requirement already satisfied: pandas in /usr/local/lib/python3.10/dist-packages (2.2.2)\n",
            "Requirement already satisfied: numpy==1.23.5 in /usr/local/lib/python3.10/dist-packages (1.23.5)\n",
            "Requirement already satisfied: imbalanced-learn in /usr/local/lib/python3.10/dist-packages (0.12.4)\n",
            "Requirement already satisfied: matplotlib in /usr/local/lib/python3.10/dist-packages (3.8.0)\n",
            "Requirement already satisfied: seaborn in /usr/local/lib/python3.10/dist-packages (0.13.2)\n",
            "Requirement already satisfied: python-dateutil>=2.8.2 in /usr/local/lib/python3.10/dist-packages (from pandas) (2.8.2)\n",
            "Requirement already satisfied: pytz>=2020.1 in /usr/local/lib/python3.10/dist-packages (from pandas) (2024.2)\n",
            "Requirement already satisfied: tzdata>=2022.7 in /usr/local/lib/python3.10/dist-packages (from pandas) (2024.2)\n",
            "Requirement already satisfied: scipy>=1.5.0 in /usr/local/lib/python3.10/dist-packages (from imbalanced-learn) (1.13.1)\n",
            "Requirement already satisfied: scikit-learn>=1.0.2 in /usr/local/lib/python3.10/dist-packages (from imbalanced-learn) (1.6.0)\n",
            "Requirement already satisfied: joblib>=1.1.1 in /usr/local/lib/python3.10/dist-packages (from imbalanced-learn) (1.4.2)\n",
            "Requirement already satisfied: threadpoolctl>=2.0.0 in /usr/local/lib/python3.10/dist-packages (from imbalanced-learn) (3.5.0)\n",
            "Requirement already satisfied: contourpy>=1.0.1 in /usr/local/lib/python3.10/dist-packages (from matplotlib) (1.3.1)\n",
            "Requirement already satisfied: cycler>=0.10 in /usr/local/lib/python3.10/dist-packages (from matplotlib) (0.12.1)\n",
            "Requirement already satisfied: fonttools>=4.22.0 in /usr/local/lib/python3.10/dist-packages (from matplotlib) (4.55.3)\n",
            "Requirement already satisfied: kiwisolver>=1.0.1 in /usr/local/lib/python3.10/dist-packages (from matplotlib) (1.4.7)\n",
            "Requirement already satisfied: packaging>=20.0 in /usr/local/lib/python3.10/dist-packages (from matplotlib) (24.2)\n",
            "Requirement already satisfied: pillow>=6.2.0 in /usr/local/lib/python3.10/dist-packages (from matplotlib) (11.0.0)\n",
            "Requirement already satisfied: pyparsing>=2.3.1 in /usr/local/lib/python3.10/dist-packages (from matplotlib) (3.2.0)\n",
            "Requirement already satisfied: six>=1.5 in /usr/local/lib/python3.10/dist-packages (from python-dateutil>=2.8.2->pandas) (1.17.0)\n"
          ]
        }
      ]
    },
    {
      "cell_type": "markdown",
      "source": [
        "2. Load Dataset"
      ],
      "metadata": {
        "id": "r-ngrYKrhR9q"
      }
    },
    {
      "cell_type": "code",
      "execution_count": null,
      "metadata": {
        "id": "2BO8uFV_XQwN",
        "colab": {
          "base_uri": "https://localhost:8080/"
        },
        "outputId": "cc6b8956-0f7b-4293-850a-6a8ea0dbb5a7"
      },
      "outputs": [
        {
          "output_type": "stream",
          "name": "stdout",
          "text": [
            "Drive already mounted at /content/drive; to attempt to forcibly remount, call drive.mount(\"/content/drive\", force_remount=True).\n",
            "Dataset loaded successfully!\n",
            "Dataset shape: (918, 12)\n",
            "   Age Sex ChestPainType  RestingBP  Cholesterol  FastingBS RestingECG  MaxHR  \\\n",
            "0   40   M           ATA        140          289          0     Normal    172   \n",
            "1   49   F           NAP        160          180          0     Normal    156   \n",
            "2   37   M           ATA        130          283          0         ST     98   \n",
            "3   48   F           ASY        138          214          0     Normal    108   \n",
            "4   54   M           NAP        150          195          0     Normal    122   \n",
            "\n",
            "  ExerciseAngina  Oldpeak ST_Slope  HeartDisease  \n",
            "0              N      0.0       Up             0  \n",
            "1              N      1.0     Flat             1  \n",
            "2              N      0.0       Up             0  \n",
            "3              Y      1.5     Flat             1  \n",
            "4              N      0.0       Up             0  \n"
          ]
        }
      ],
      "source": [
        "# Mount Google Drive\n",
        "from google.colab import drive\n",
        "drive.mount('/content/drive')\n",
        "\n",
        "# Define file path\n",
        "heart_path = '/content/drive/My Drive/Heart/heart.csv'\n",
        "\n",
        "# Load the dataset\n",
        "df = pd.read_csv(heart_path)\n",
        "print(\"Dataset loaded successfully!\")\n",
        "print(\"Dataset shape:\", df.shape)\n",
        "print(df.head())"
      ]
    },
    {
      "cell_type": "markdown",
      "source": [
        "3. Data Preprocessing"
      ],
      "metadata": {
        "id": "AsyCldghhWcY"
      }
    },
    {
      "cell_type": "code",
      "execution_count": null,
      "metadata": {
        "id": "s6Izg-RgZi2w",
        "colab": {
          "base_uri": "https://localhost:8080/"
        },
        "outputId": "d5897740-2d3d-4b9c-a067-97fef83f2dad"
      },
      "outputs": [
        {
          "output_type": "stream",
          "name": "stderr",
          "text": [
            "/usr/local/lib/python3.10/dist-packages/sklearn/base.py:474: FutureWarning: `BaseEstimator._validate_data` is deprecated in 1.6 and will be removed in 1.7. Use `sklearn.utils.validation.validate_data` instead. This function becomes public and is part of the scikit-learn developer API.\n",
            "  warnings.warn(\n",
            "/usr/local/lib/python3.10/dist-packages/sklearn/utils/_tags.py:354: FutureWarning: The SMOTE or classes from which it inherits use `_get_tags` and `_more_tags`. Please define the `__sklearn_tags__` method, or inherit from `sklearn.base.BaseEstimator` and/or other appropriate mixins such as `sklearn.base.TransformerMixin`, `sklearn.base.ClassifierMixin`, `sklearn.base.RegressorMixin`, and `sklearn.base.OutlierMixin`. From scikit-learn 1.7, not defining `__sklearn_tags__` will raise an error.\n",
            "  warnings.warn(\n"
          ]
        }
      ],
      "source": [
        "# Data preprocessing\n",
        "df.drop_duplicates(inplace=True)\n",
        "\n",
        "# Encode categorical features\n",
        "categorical_cols = ['Sex', 'ChestPainType', 'RestingECG', 'ExerciseAngina', 'ST_Slope']\n",
        "label_encoders = {}\n",
        "for col in categorical_cols:\n",
        "    le = LabelEncoder()\n",
        "    df[col] = le.fit_transform(df[col])\n",
        "    label_encoders[col] = le\n",
        "\n",
        "# Define features and target\n",
        "features = df.drop(columns=['HeartDisease']).values\n",
        "target = df['HeartDisease'].values\n",
        "\n",
        "# Handle data imbalance using SMOTE\n",
        "smote = SMOTE(random_state=42)\n",
        "features_resampled, target_resampled = smote.fit_resample(features, target)\n",
        "\n",
        "# Split data into training and testing sets\n",
        "x_train, x_test, y_train, y_test = train_test_split(\n",
        "    features_resampled, target_resampled, test_size=0.2, random_state=42)"
      ]
    },
    {
      "cell_type": "code",
      "source": [
        "df.shape"
      ],
      "metadata": {
        "id": "gamJgk78-JlC",
        "colab": {
          "base_uri": "https://localhost:8080/"
        },
        "outputId": "16fdcf4a-75d5-4b28-f357-889bee71a15c"
      },
      "execution_count": null,
      "outputs": [
        {
          "output_type": "execute_result",
          "data": {
            "text/plain": [
              "(918, 12)"
            ]
          },
          "metadata": {},
          "execution_count": 30
        }
      ]
    },
    {
      "cell_type": "code",
      "execution_count": null,
      "metadata": {
        "id": "EiY-O62cbMI0",
        "colab": {
          "base_uri": "https://localhost:8080/"
        },
        "outputId": "21a011bc-6c8d-486f-cbf2-09f2fec162ad"
      },
      "outputs": [
        {
          "output_type": "execute_result",
          "data": {
            "text/plain": [
              "Index(['Age', 'Sex', 'ChestPainType', 'RestingBP', 'Cholesterol', 'FastingBS',\n",
              "       'RestingECG', 'MaxHR', 'ExerciseAngina', 'Oldpeak', 'ST_Slope',\n",
              "       'HeartDisease'],\n",
              "      dtype='object')"
            ]
          },
          "metadata": {},
          "execution_count": 31
        }
      ],
      "source": [
        "df.columns"
      ]
    },
    {
      "cell_type": "code",
      "execution_count": null,
      "metadata": {
        "id": "cqcpScald5xD",
        "colab": {
          "base_uri": "https://localhost:8080/",
          "height": 481
        },
        "outputId": "9eccfb9f-e7ae-4148-dc2f-27d60be2d860"
      },
      "outputs": [
        {
          "output_type": "display_data",
          "data": {
            "text/plain": [
              "<Figure size 500x500 with 2 Axes>"
            ],
            "image/png": "[encoded data removed]"
          },
          "metadata": {}
        }
      ],
      "source": [
        "# Filter data for Heart Disease and No Heart Disease\n",
        "yes = df[df['HeartDisease'] == 1].describe().T\n",
        "no = df[df['HeartDisease'] == 0].describe().T\n",
        "colors = ['#66b3ff', '#ff9999']  # Custom colors\n",
        "\n",
        "# Create subplots for the heatmaps\n",
        "fig, ax = plt.subplots(nrows=1, ncols=2, figsize=(5, 5))\n",
        "\n",
        "# Heatmap for Heart Disease\n",
        "plt.subplot(1, 2, 1)\n",
        "sns.heatmap(\n",
        "    yes[['mean']],\n",
        "    annot=True,\n",
        "    cmap=colors,\n",
        "    linewidths=0.4,\n",
        "    linecolor='black',\n",
        "    cbar=False,\n",
        "    fmt='.2f'\n",
        ")\n",
        "plt.title('Heart Disease', fontsize=14)\n",
        "\n",
        "# Heatmap for No Heart Disease\n",
        "plt.subplot(1, 2, 2)\n",
        "sns.heatmap(\n",
        "    no[['mean']],\n",
        "    annot=True,\n",
        "    cmap=colors,\n",
        "    linewidths=0.4,\n",
        "    linecolor='black',\n",
        "    cbar=False,\n",
        "    fmt='.2f'\n",
        ")\n",
        "plt.title('No Heart Disease', fontsize=14)\n",
        "\n",
        "# Adjust layout\n",
        "fig.tight_layout(pad=2)\n",
        "plt.show()\n"
      ]
    },
    {
      "cell_type": "code",
      "source": [
        "l = list(df['HeartDisease'].value_counts())\n",
        "circle = [l[1] / sum(l) * 100, l[0] / sum(l) * 100]\n",
        "\n",
        "# Create a single plot for the pie chart\n",
        "fig, ax = plt.subplots(figsize=(4, 4))  # Adjust size as needed\n",
        "plt.pie(\n",
        "    circle,\n",
        "    labels=['No Heart Disease', 'Heart Disease'],\n",
        "    autopct='%1.1f%%',\n",
        "    startangle=90,\n",
        "    explode=(0.1, 0),\n",
        "    colors=['#ff9999', '#66b3ff'],\n",
        "    wedgeprops={'edgecolor': 'black', 'linewidth': 1, 'antialiased': True}\n",
        ")\n",
        "plt.title('Heart Disease %')\n",
        "plt.show()"
      ],
      "metadata": {
        "colab": {
          "base_uri": "https://localhost:8080/",
          "height": 367
        },
        "id": "ytaJfaDLyift",
        "outputId": "8d2fefb8-7726-490b-b753-dd57e4da0f19"
      },
      "execution_count": null,
      "outputs": [
        {
          "output_type": "display_data",
          "data": {
            "text/plain": [
              "<Figure size 400x400 with 1 Axes>"
            ],
            "image/png": "[encoded data removed]"
          },
          "metadata": {}
        }
      ]
    },
    {
      "cell_type": "markdown",
      "metadata": {
        "id": "O2I1ZXODe8Qp"
      },
      "source": [
        "Dividing features into Numerical and Categorical"
      ]
    },
    {
      "cell_type": "markdown",
      "source": [
        "4. Model Training and Evaluation Functions"
      ],
      "metadata": {
        "id": "yof0QlZuhp5S"
      }
    },
    {
      "cell_type": "markdown",
      "source": [
        "# Decision Tree Evaluation"
      ],
      "metadata": {
        "id": "scVbjCK_uU4X"
      }
    },
    {
      "cell_type": "code",
      "source": [
        "from sklearn.model_selection import RepeatedStratifiedKFold\n",
        "\n",
        "# Decision Tree Evaluation\n",
        "def evaluate_decision_tree(dt_classifier, x_train, y_train, x_test, y_test):\n",
        "    dt_classifier.fit(x_train, y_train)\n",
        "    prediction = dt_classifier.predict(x_test)\n",
        "    train_prediction = dt_classifier.predict(x_train)\n",
        "    cv = RepeatedStratifiedKFold(n_splits=10, n_repeats=3, random_state=1)\n",
        "\n",
        "    print(\"\\n--- Decision Tree Evaluation ---\")\n",
        "    print(\"Accuracy:\", '{0:.2%}'.format(accuracy_score(y_test, prediction)))\n",
        "    print(\"Training Accuracy:\", '{0:.2%}'.format(accuracy_score(y_train, train_prediction)))\n",
        "    print(\"Cross Validation Score:\", '{0:.2%}'.format(cross_val_score(\n",
        "        dt_classifier, x_train, y_train, cv=cv, scoring='roc_auc').mean()))\n",
        "    print(\"ROC_AUC Score:\", '{0:.2%}'.format(roc_auc_score(y_test, prediction)))\n",
        "\n",
        "\n",
        "classifier_dt = DecisionTreeClassifier(random_state=42, max_depth=4, criterion='entropy')\n",
        "\n",
        "# Evaluate Decision Tree\n",
        "evaluate_decision_tree(classifier_dt, x_train, y_train, x_test, y_test)"
      ],
      "metadata": {
        "colab": {
          "base_uri": "https://localhost:8080/"
        },
        "id": "9d2MpsN9MbaG",
        "outputId": "aea37828-fc99-4b52-8c4b-46953839a7b6"
      },
      "execution_count": null,
      "outputs": [
        {
          "output_type": "stream",
          "name": "stdout",
          "text": [
            "\n",
            "--- Decision Tree Evaluation ---\n",
            "Accuracy: 82.84%\n",
            "Training Accuracy: 88.30%\n",
            "Cross Validation Score: 90.17%\n",
            "ROC_AUC Score: 82.17%\n"
          ]
        }
      ]
    },
    {
      "cell_type": "markdown",
      "source": [
        "# Logistic Regression Evaluation"
      ],
      "metadata": {
        "id": "e7Rq0EvWuQC_"
      }
    },
    {
      "cell_type": "code",
      "source": [
        "def evaluate_logistic_regression(lr_classifier, x_train_scaled, y_train, x_test_scaled, y_test):\n",
        "    \"\"\"\n",
        "    Evaluate Logistic Regression and print metrics without additional imports.\n",
        "\n",
        "    Parameters:\n",
        "        lr_classifier: LogisticRegression object.\n",
        "        x_train_scaled: Scaled training feature set.\n",
        "        y_train: Training target set.\n",
        "        x_test_scaled: Scaled test feature set.\n",
        "        y_test: Test target set.\n",
        "    \"\"\"\n",
        "    # Train the classifier\n",
        "    lr_classifier.fit(x_train_scaled, y_train)\n",
        "\n",
        "    # Predictions\n",
        "    prediction = lr_classifier.predict(x_test_scaled)\n",
        "    train_prediction = lr_classifier.predict(x_train_scaled)\n",
        "\n",
        "    # Cross-validation\n",
        "    cv = RepeatedStratifiedKFold(n_splits=10, n_repeats=3, random_state=1)\n",
        "    cross_val = cross_val_score(lr_classifier, x_train_scaled, y_train, cv=cv, scoring='roc_auc').mean()\n",
        "\n",
        "    # Metrics\n",
        "    accuracy = accuracy_score(y_test, prediction)\n",
        "    training_accuracy = accuracy_score(y_train, train_prediction)\n",
        "    roc_auc = roc_auc_score(y_test, prediction)\n",
        "\n",
        "    # Print results without additional imports\n",
        "    print(\"\\n--- Logistic Regression Evaluation ---\")\n",
        "    print(\"Accuracy: {:.2f}%\".format(accuracy * 100))\n",
        "    print(\"Training Accuracy: {:.2f}%\".format(training_accuracy * 100))\n",
        "    print(\"Cross Validation Score: {:.2f}%\".format(cross_val * 100))\n",
        "    print(\"ROC_AUC Score: {:.2f}%\".format(roc_auc * 100))\n",
        "\n",
        "\n",
        "classifier_lr = LogisticRegression(random_state=42, max_iter=1000, solver='lbfgs')\n",
        "\n",
        "evaluate_logistic_regression(classifier_lr, x_train, y_train, x_test, y_test)\n"
      ],
      "metadata": {
        "colab": {
          "base_uri": "https://localhost:8080/"
        },
        "id": "h2DUGboKuQ53",
        "outputId": "e2229778-3d3c-4ea6-8e86-af2f5a0fbc3b"
      },
      "execution_count": null,
      "outputs": [
        {
          "output_type": "stream",
          "name": "stderr",
          "text": [
            "/usr/local/lib/python3.10/dist-packages/sklearn/linear_model/_logistic.py:465: ConvergenceWarning: lbfgs failed to converge (status=1):\n",
            "STOP: TOTAL NO. of ITERATIONS REACHED LIMIT.\n",
            "\n",
            "Increase the number of iterations (max_iter) or scale the data as shown in:\n",
            "    https://scikit-learn.org/stable/modules/preprocessing.html\n",
            "Please also refer to the documentation for alternative solver options:\n",
            "    https://scikit-learn.org/stable/modules/linear_model.html#logistic-regression\n",
            "  n_iter_i = _check_optimize_result(\n"
          ]
        },
        {
          "output_type": "stream",
          "name": "stdout",
          "text": [
            "\n",
            "--- Logistic Regression Evaluation ---\n",
            "Accuracy: 83.82%\n",
            "Training Accuracy: 86.45%\n",
            "Cross Validation Score: 91.79%\n",
            "ROC_AUC Score: 83.44%\n"
          ]
        }
      ]
    },
    {
      "cell_type": "markdown",
      "source": [
        "# Random Forest Evaluation"
      ],
      "metadata": {
        "id": "RCFNEszkuM0f"
      }
    },
    {
      "cell_type": "code",
      "source": [
        "import warnings\n",
        "from sklearn.exceptions import ConvergenceWarning\n",
        "\n",
        "# Random Forest Evaluation\n",
        "def evaluate_random_forest(rf_classifier, x_train, y_train, x_test, y_test):\n",
        "    rf_classifier.fit(x_train, y_train)\n",
        "    prediction = rf_classifier.predict(x_test)\n",
        "    train_prediction = rf_classifier.predict(x_train)\n",
        "    cv = RepeatedStratifiedKFold(n_splits=10, n_repeats=3, random_state=1)\n",
        "\n",
        "    print(\"\\n--- Random Forest Evaluation ---\")\n",
        "    print(\"Accuracy:\", '{0:.2%}'.format(accuracy_score(y_test, prediction)))\n",
        "    print(\"Training Accuracy:\", '{0:.2%}'.format(accuracy_score(y_train, train_prediction)))\n",
        "    print(\"Cross Validation Score:\", '{0:.2%}'.format(cross_val_score(\n",
        "        rf_classifier, x_train, y_train, cv=cv, scoring='roc_auc').mean()))\n",
        "    print(\"ROC_AUC Score:\", '{0:.2%}'.format(roc_auc_score(y_test, prediction)))\n",
        "\n",
        "# Define classifiers\n",
        "classifier_rf = RandomForestClassifier(random_state=42, max_depth=4, n_estimators=100)\n",
        "\n",
        "# Evaluate models\n",
        "evaluate_random_forest(classifier_rf, x_train, y_train, x_test, y_test)\n",
        "\n"
      ],
      "metadata": {
        "colab": {
          "base_uri": "https://localhost:8080/"
        },
        "id": "LY1m1gRPuLj8",
        "outputId": "91ebc61a-98b6-490c-af63-f0372192ffe2"
      },
      "execution_count": null,
      "outputs": [
        {
          "output_type": "stream",
          "name": "stdout",
          "text": [
            "\n",
            "--- Random Forest Evaluation ---\n",
            "Accuracy: 86.76%\n",
            "Training Accuracy: 90.52%\n",
            "Cross Validation Score: 93.82%\n",
            "ROC_AUC Score: 86.17%\n"
          ]
        }
      ]
    },
    {
      "cell_type": "code",
      "source": [
        "# Define classifiers\n",
        "classifier_dt = DecisionTreeClassifier(random_state=42, max_depth=4, criterion='entropy')\n",
        "classifier_lr = LogisticRegression(random_state=42, max_iter=500)\n",
        "classifier_rf = RandomForestClassifier(random_state=42, max_depth=4, n_estimators=100)\n",
        "\n",
        "# Evaluate each model\n",
        "evaluate_decision_tree(classifier_dt, x_train, y_train, x_test, y_test)\n",
        "evaluate_logistic_regression(classifier_lr, x_train, y_train, x_test, y_test)\n",
        "evaluate_random_forest(classifier_rf, x_train, y_train, x_test, y_test)\n"
      ],
      "metadata": {
        "colab": {
          "base_uri": "https://localhost:8080/"
        },
        "id": "QiIimLcvt9rm",
        "outputId": "d0728926-1bb0-478c-d8cc-9dc4fa359e94"
      },
      "execution_count": null,
      "outputs": [
        {
          "output_type": "stream",
          "name": "stdout",
          "text": [
            "\n",
            "--- Decision Tree Evaluation ---\n",
            "Accuracy: 82.84%\n",
            "Training Accuracy: 88.30%\n",
            "Cross Validation Score: 90.17%\n",
            "ROC_AUC Score: 82.17%\n"
          ]
        },
        {
          "output_type": "stream",
          "name": "stderr",
          "text": [
            "/usr/local/lib/python3.10/dist-packages/sklearn/linear_model/_logistic.py:465: ConvergenceWarning: lbfgs failed to converge (status=1):\n",
            "STOP: TOTAL NO. of ITERATIONS REACHED LIMIT.\n",
            "\n",
            "Increase the number of iterations (max_iter) or scale the data as shown in:\n",
            "    https://scikit-learn.org/stable/modules/preprocessing.html\n",
            "Please also refer to the documentation for alternative solver options:\n",
            "    https://scikit-learn.org/stable/modules/linear_model.html#logistic-regression\n",
            "  n_iter_i = _check_optimize_result(\n",
            "/usr/local/lib/python3.10/dist-packages/sklearn/linear_model/_logistic.py:465: ConvergenceWarning: lbfgs failed to converge (status=1):\n",
            "STOP: TOTAL NO. of ITERATIONS REACHED LIMIT.\n",
            "\n",
            "Increase the number of iterations (max_iter) or scale the data as shown in:\n",
            "    https://scikit-learn.org/stable/modules/preprocessing.html\n",
            "Please also refer to the documentation for alternative solver options:\n",
            "    https://scikit-learn.org/stable/modules/linear_model.html#logistic-regression\n",
            "  n_iter_i = _check_optimize_result(\n",
            "/usr/local/lib/python3.10/dist-packages/sklearn/linear_model/_logistic.py:465: ConvergenceWarning: lbfgs failed to converge (status=1):\n",
            "STOP: TOTAL NO. of ITERATIONS REACHED LIMIT.\n",
            "\n",
            "Increase the number of iterations (max_iter) or scale the data as shown in:\n",
            "    https://scikit-learn.org/stable/modules/preprocessing.html\n",
            "Please also refer to the documentation for alternative solver options:\n",
            "    https://scikit-learn.org/stable/modules/linear_model.html#logistic-regression\n",
            "  n_iter_i = _check_optimize_result(\n",
            "/usr/local/lib/python3.10/dist-packages/sklearn/linear_model/_logistic.py:465: ConvergenceWarning: lbfgs failed to converge (status=1):\n",
            "STOP: TOTAL NO. of ITERATIONS REACHED LIMIT.\n",
            "\n",
            "Increase the number of iterations (max_iter) or scale the data as shown in:\n",
            "    https://scikit-learn.org/stable/modules/preprocessing.html\n",
            "Please also refer to the documentation for alternative solver options:\n",
            "    https://scikit-learn.org/stable/modules/linear_model.html#logistic-regression\n",
            "  n_iter_i = _check_optimize_result(\n",
            "/usr/local/lib/python3.10/dist-packages/sklearn/linear_model/_logistic.py:465: ConvergenceWarning: lbfgs failed to converge (status=1):\n",
            "STOP: TOTAL NO. of ITERATIONS REACHED LIMIT.\n",
            "\n",
            "Increase the number of iterations (max_iter) or scale the data as shown in:\n",
            "    https://scikit-learn.org/stable/modules/preprocessing.html\n",
            "Please also refer to the documentation for alternative solver options:\n",
            "    https://scikit-learn.org/stable/modules/linear_model.html#logistic-regression\n",
            "  n_iter_i = _check_optimize_result(\n",
            "/usr/local/lib/python3.10/dist-packages/sklearn/linear_model/_logistic.py:465: ConvergenceWarning: lbfgs failed to converge (status=1):\n",
            "STOP: TOTAL NO. of ITERATIONS REACHED LIMIT.\n",
            "\n",
            "Increase the number of iterations (max_iter) or scale the data as shown in:\n",
            "    https://scikit-learn.org/stable/modules/preprocessing.html\n",
            "Please also refer to the documentation for alternative solver options:\n",
            "    https://scikit-learn.org/stable/modules/linear_model.html#logistic-regression\n",
            "  n_iter_i = _check_optimize_result(\n",
            "/usr/local/lib/python3.10/dist-packages/sklearn/linear_model/_logistic.py:465: ConvergenceWarning: lbfgs failed to converge (status=1):\n",
            "STOP: TOTAL NO. of ITERATIONS REACHED LIMIT.\n",
            "\n",
            "Increase the number of iterations (max_iter) or scale the data as shown in:\n",
            "    https://scikit-learn.org/stable/modules/preprocessing.html\n",
            "Please also refer to the documentation for alternative solver options:\n",
            "    https://scikit-learn.org/stable/modules/linear_model.html#logistic-regression\n",
            "  n_iter_i = _check_optimize_result(\n",
            "/usr/local/lib/python3.10/dist-packages/sklearn/linear_model/_logistic.py:465: ConvergenceWarning: lbfgs failed to converge (status=1):\n",
            "STOP: TOTAL NO. of ITERATIONS REACHED LIMIT.\n",
            "\n",
            "Increase the number of iterations (max_iter) or scale the data as shown in:\n",
            "    https://scikit-learn.org/stable/modules/preprocessing.html\n",
            "Please also refer to the documentation for alternative solver options:\n",
            "    https://scikit-learn.org/stable/modules/linear_model.html#logistic-regression\n",
            "  n_iter_i = _check_optimize_result(\n",
            "/usr/local/lib/python3.10/dist-packages/sklearn/linear_model/_logistic.py:465: ConvergenceWarning: lbfgs failed to converge (status=1):\n",
            "STOP: TOTAL NO. of ITERATIONS REACHED LIMIT.\n",
            "\n",
            "Increase the number of iterations (max_iter) or scale the data as shown in:\n",
            "    https://scikit-learn.org/stable/modules/preprocessing.html\n",
            "Please also refer to the documentation for alternative solver options:\n",
            "    https://scikit-learn.org/stable/modules/linear_model.html#logistic-regression\n",
            "  n_iter_i = _check_optimize_result(\n",
            "/usr/local/lib/python3.10/dist-packages/sklearn/linear_model/_logistic.py:465: ConvergenceWarning: lbfgs failed to converge (status=1):\n",
            "STOP: TOTAL NO. of ITERATIONS REACHED LIMIT.\n",
            "\n",
            "Increase the number of iterations (max_iter) or scale the data as shown in:\n",
            "    https://scikit-learn.org/stable/modules/preprocessing.html\n",
            "Please also refer to the documentation for alternative solver options:\n",
            "    https://scikit-learn.org/stable/modules/linear_model.html#logistic-regression\n",
            "  n_iter_i = _check_optimize_result(\n",
            "/usr/local/lib/python3.10/dist-packages/sklearn/linear_model/_logistic.py:465: ConvergenceWarning: lbfgs failed to converge (status=1):\n",
            "STOP: TOTAL NO. of ITERATIONS REACHED LIMIT.\n",
            "\n",
            "Increase the number of iterations (max_iter) or scale the data as shown in:\n",
            "    https://scikit-learn.org/stable/modules/preprocessing.html\n",
            "Please also refer to the documentation for alternative solver options:\n",
            "    https://scikit-learn.org/stable/modules/linear_model.html#logistic-regression\n",
            "  n_iter_i = _check_optimize_result(\n",
            "/usr/local/lib/python3.10/dist-packages/sklearn/linear_model/_logistic.py:465: ConvergenceWarning: lbfgs failed to converge (status=1):\n",
            "STOP: TOTAL NO. of ITERATIONS REACHED LIMIT.\n",
            "\n",
            "Increase the number of iterations (max_iter) or scale the data as shown in:\n",
            "    https://scikit-learn.org/stable/modules/preprocessing.html\n",
            "Please also refer to the documentation for alternative solver options:\n",
            "    https://scikit-learn.org/stable/modules/linear_model.html#logistic-regression\n",
            "  n_iter_i = _check_optimize_result(\n",
            "/usr/local/lib/python3.10/dist-packages/sklearn/linear_model/_logistic.py:465: ConvergenceWarning: lbfgs failed to converge (status=1):\n",
            "STOP: TOTAL NO. of ITERATIONS REACHED LIMIT.\n",
            "\n",
            "Increase the number of iterations (max_iter) or scale the data as shown in:\n",
            "    https://scikit-learn.org/stable/modules/preprocessing.html\n",
            "Please also refer to the documentation for alternative solver options:\n",
            "    https://scikit-learn.org/stable/modules/linear_model.html#logistic-regression\n",
            "  n_iter_i = _check_optimize_result(\n",
            "/usr/local/lib/python3.10/dist-packages/sklearn/linear_model/_logistic.py:465: ConvergenceWarning: lbfgs failed to converge (status=1):\n",
            "STOP: TOTAL NO. of ITERATIONS REACHED LIMIT.\n",
            "\n",
            "Increase the number of iterations (max_iter) or scale the data as shown in:\n",
            "    https://scikit-learn.org/stable/modules/preprocessing.html\n",
            "Please also refer to the documentation for alternative solver options:\n",
            "    https://scikit-learn.org/stable/modules/linear_model.html#logistic-regression\n",
            "  n_iter_i = _check_optimize_result(\n",
            "/usr/local/lib/python3.10/dist-packages/sklearn/linear_model/_logistic.py:465: ConvergenceWarning: lbfgs failed to converge (status=1):\n",
            "STOP: TOTAL NO. of ITERATIONS REACHED LIMIT.\n",
            "\n",
            "Increase the number of iterations (max_iter) or scale the data as shown in:\n",
            "    https://scikit-learn.org/stable/modules/preprocessing.html\n",
            "Please also refer to the documentation for alternative solver options:\n",
            "    https://scikit-learn.org/stable/modules/linear_model.html#logistic-regression\n",
            "  n_iter_i = _check_optimize_result(\n",
            "/usr/local/lib/python3.10/dist-packages/sklearn/linear_model/_logistic.py:465: ConvergenceWarning: lbfgs failed to converge (status=1):\n",
            "STOP: TOTAL NO. of ITERATIONS REACHED LIMIT.\n",
            "\n",
            "Increase the number of iterations (max_iter) or scale the data as shown in:\n",
            "    https://scikit-learn.org/stable/modules/preprocessing.html\n",
            "Please also refer to the documentation for alternative solver options:\n",
            "    https://scikit-learn.org/stable/modules/linear_model.html#logistic-regression\n",
            "  n_iter_i = _check_optimize_result(\n",
            "/usr/local/lib/python3.10/dist-packages/sklearn/linear_model/_logistic.py:465: ConvergenceWarning: lbfgs failed to converge (status=1):\n",
            "STOP: TOTAL NO. of ITERATIONS REACHED LIMIT.\n",
            "\n",
            "Increase the number of iterations (max_iter) or scale the data as shown in:\n",
            "    https://scikit-learn.org/stable/modules/preprocessing.html\n",
            "Please also refer to the documentation for alternative solver options:\n",
            "    https://scikit-learn.org/stable/modules/linear_model.html#logistic-regression\n",
            "  n_iter_i = _check_optimize_result(\n",
            "/usr/local/lib/python3.10/dist-packages/sklearn/linear_model/_logistic.py:465: ConvergenceWarning: lbfgs failed to converge (status=1):\n",
            "STOP: TOTAL NO. of ITERATIONS REACHED LIMIT.\n",
            "\n",
            "Increase the number of iterations (max_iter) or scale the data as shown in:\n",
            "    https://scikit-learn.org/stable/modules/preprocessing.html\n",
            "Please also refer to the documentation for alternative solver options:\n",
            "    https://scikit-learn.org/stable/modules/linear_model.html#logistic-regression\n",
            "  n_iter_i = _check_optimize_result(\n",
            "/usr/local/lib/python3.10/dist-packages/sklearn/linear_model/_logistic.py:465: ConvergenceWarning: lbfgs failed to converge (status=1):\n",
            "STOP: TOTAL NO. of ITERATIONS REACHED LIMIT.\n",
            "\n",
            "Increase the number of iterations (max_iter) or scale the data as shown in:\n",
            "    https://scikit-learn.org/stable/modules/preprocessing.html\n",
            "Please also refer to the documentation for alternative solver options:\n",
            "    https://scikit-learn.org/stable/modules/linear_model.html#logistic-regression\n",
            "  n_iter_i = _check_optimize_result(\n",
            "/usr/local/lib/python3.10/dist-packages/sklearn/linear_model/_logistic.py:465: ConvergenceWarning: lbfgs failed to converge (status=1):\n",
            "STOP: TOTAL NO. of ITERATIONS REACHED LIMIT.\n",
            "\n",
            "Increase the number of iterations (max_iter) or scale the data as shown in:\n",
            "    https://scikit-learn.org/stable/modules/preprocessing.html\n",
            "Please also refer to the documentation for alternative solver options:\n",
            "    https://scikit-learn.org/stable/modules/linear_model.html#logistic-regression\n",
            "  n_iter_i = _check_optimize_result(\n",
            "/usr/local/lib/python3.10/dist-packages/sklearn/linear_model/_logistic.py:465: ConvergenceWarning: lbfgs failed to converge (status=1):\n",
            "STOP: TOTAL NO. of ITERATIONS REACHED LIMIT.\n",
            "\n",
            "Increase the number of iterations (max_iter) or scale the data as shown in:\n",
            "    https://scikit-learn.org/stable/modules/preprocessing.html\n",
            "Please also refer to the documentation for alternative solver options:\n",
            "    https://scikit-learn.org/stable/modules/linear_model.html#logistic-regression\n",
            "  n_iter_i = _check_optimize_result(\n",
            "/usr/local/lib/python3.10/dist-packages/sklearn/linear_model/_logistic.py:465: ConvergenceWarning: lbfgs failed to converge (status=1):\n",
            "STOP: TOTAL NO. of ITERATIONS REACHED LIMIT.\n",
            "\n",
            "Increase the number of iterations (max_iter) or scale the data as shown in:\n",
            "    https://scikit-learn.org/stable/modules/preprocessing.html\n",
            "Please also refer to the documentation for alternative solver options:\n",
            "    https://scikit-learn.org/stable/modules/linear_model.html#logistic-regression\n",
            "  n_iter_i = _check_optimize_result(\n",
            "/usr/local/lib/python3.10/dist-packages/sklearn/linear_model/_logistic.py:465: ConvergenceWarning: lbfgs failed to converge (status=1):\n",
            "STOP: TOTAL NO. of ITERATIONS REACHED LIMIT.\n",
            "\n",
            "Increase the number of iterations (max_iter) or scale the data as shown in:\n",
            "    https://scikit-learn.org/stable/modules/preprocessing.html\n",
            "Please also refer to the documentation for alternative solver options:\n",
            "    https://scikit-learn.org/stable/modules/linear_model.html#logistic-regression\n",
            "  n_iter_i = _check_optimize_result(\n",
            "/usr/local/lib/python3.10/dist-packages/sklearn/linear_model/_logistic.py:465: ConvergenceWarning: lbfgs failed to converge (status=1):\n",
            "STOP: TOTAL NO. of ITERATIONS REACHED LIMIT.\n",
            "\n",
            "Increase the number of iterations (max_iter) or scale the data as shown in:\n",
            "    https://scikit-learn.org/stable/modules/preprocessing.html\n",
            "Please also refer to the documentation for alternative solver options:\n",
            "    https://scikit-learn.org/stable/modules/linear_model.html#logistic-regression\n",
            "  n_iter_i = _check_optimize_result(\n",
            "/usr/local/lib/python3.10/dist-packages/sklearn/linear_model/_logistic.py:465: ConvergenceWarning: lbfgs failed to converge (status=1):\n",
            "STOP: TOTAL NO. of ITERATIONS REACHED LIMIT.\n",
            "\n",
            "Increase the number of iterations (max_iter) or scale the data as shown in:\n",
            "    https://scikit-learn.org/stable/modules/preprocessing.html\n",
            "Please also refer to the documentation for alternative solver options:\n",
            "    https://scikit-learn.org/stable/modules/linear_model.html#logistic-regression\n",
            "  n_iter_i = _check_optimize_result(\n",
            "/usr/local/lib/python3.10/dist-packages/sklearn/linear_model/_logistic.py:465: ConvergenceWarning: lbfgs failed to converge (status=1):\n",
            "STOP: TOTAL NO. of ITERATIONS REACHED LIMIT.\n",
            "\n",
            "Increase the number of iterations (max_iter) or scale the data as shown in:\n",
            "    https://scikit-learn.org/stable/modules/preprocessing.html\n",
            "Please also refer to the documentation for alternative solver options:\n",
            "    https://scikit-learn.org/stable/modules/linear_model.html#logistic-regression\n",
            "  n_iter_i = _check_optimize_result(\n",
            "/usr/local/lib/python3.10/dist-packages/sklearn/linear_model/_logistic.py:465: ConvergenceWarning: lbfgs failed to converge (status=1):\n",
            "STOP: TOTAL NO. of ITERATIONS REACHED LIMIT.\n",
            "\n",
            "Increase the number of iterations (max_iter) or scale the data as shown in:\n",
            "    https://scikit-learn.org/stable/modules/preprocessing.html\n",
            "Please also refer to the documentation for alternative solver options:\n",
            "    https://scikit-learn.org/stable/modules/linear_model.html#logistic-regression\n",
            "  n_iter_i = _check_optimize_result(\n",
            "/usr/local/lib/python3.10/dist-packages/sklearn/linear_model/_logistic.py:465: ConvergenceWarning: lbfgs failed to converge (status=1):\n",
            "STOP: TOTAL NO. of ITERATIONS REACHED LIMIT.\n",
            "\n",
            "Increase the number of iterations (max_iter) or scale the data as shown in:\n",
            "    https://scikit-learn.org/stable/modules/preprocessing.html\n",
            "Please also refer to the documentation for alternative solver options:\n",
            "    https://scikit-learn.org/stable/modules/linear_model.html#logistic-regression\n",
            "  n_iter_i = _check_optimize_result(\n",
            "/usr/local/lib/python3.10/dist-packages/sklearn/linear_model/_logistic.py:465: ConvergenceWarning: lbfgs failed to converge (status=1):\n",
            "STOP: TOTAL NO. of ITERATIONS REACHED LIMIT.\n",
            "\n",
            "Increase the number of iterations (max_iter) or scale the data as shown in:\n",
            "    https://scikit-learn.org/stable/modules/preprocessing.html\n",
            "Please also refer to the documentation for alternative solver options:\n",
            "    https://scikit-learn.org/stable/modules/linear_model.html#logistic-regression\n",
            "  n_iter_i = _check_optimize_result(\n",
            "/usr/local/lib/python3.10/dist-packages/sklearn/linear_model/_logistic.py:465: ConvergenceWarning: lbfgs failed to converge (status=1):\n",
            "STOP: TOTAL NO. of ITERATIONS REACHED LIMIT.\n",
            "\n",
            "Increase the number of iterations (max_iter) or scale the data as shown in:\n",
            "    https://scikit-learn.org/stable/modules/preprocessing.html\n",
            "Please also refer to the documentation for alternative solver options:\n",
            "    https://scikit-learn.org/stable/modules/linear_model.html#logistic-regression\n",
            "  n_iter_i = _check_optimize_result(\n",
            "/usr/local/lib/python3.10/dist-packages/sklearn/linear_model/_logistic.py:465: ConvergenceWarning: lbfgs failed to converge (status=1):\n",
            "STOP: TOTAL NO. of ITERATIONS REACHED LIMIT.\n",
            "\n",
            "Increase the number of iterations (max_iter) or scale the data as shown in:\n",
            "    https://scikit-learn.org/stable/modules/preprocessing.html\n",
            "Please also refer to the documentation for alternative solver options:\n",
            "    https://scikit-learn.org/stable/modules/linear_model.html#logistic-regression\n",
            "  n_iter_i = _check_optimize_result(\n"
          ]
        },
        {
          "output_type": "stream",
          "name": "stdout",
          "text": [
            "\n",
            "--- Logistic Regression Evaluation ---\n",
            "Accuracy: 83.82%\n",
            "Training Accuracy: 86.08%\n",
            "Cross Validation Score: 91.77%\n",
            "ROC_AUC Score: 83.44%\n",
            "\n",
            "--- Random Forest Evaluation ---\n",
            "Accuracy: 86.76%\n",
            "Training Accuracy: 90.52%\n",
            "Cross Validation Score: 93.82%\n",
            "ROC_AUC Score: 86.17%\n"
          ]
        }
      ]
    },
    {
      "cell_type": "code",
      "source": [
        "# Define classifiers\n",
        "classifier_dt = DecisionTreeClassifier(random_state=42, max_depth=4, criterion='entropy')\n",
        "classifier_lr = LogisticRegression(random_state=42, max_iter=500)\n",
        "classifier_rf = RandomForestClassifier(random_state=42, max_depth=4, n_estimators=100)\n",
        "\n",
        "# Define model names and classifiers\n",
        "models = [classifier_dt, classifier_lr, classifier_rf]\n",
        "model_names = ['Decision Tree', 'Logistic Regression', 'Random Forest']\n",
        "\n",
        "# Initialize results list\n",
        "results = []\n",
        "\n",
        "# Loop through models for evaluation\n",
        "for model, model_name in zip(models, model_names):\n",
        "    print(f\"\\n--- {model_name} ---\")\n",
        "    model.fit(x_train, y_train)\n",
        "    y_pred = model.predict(x_test)\n",
        "\n",
        "    # Print classification report\n",
        "    print(classification_report(y_test, y_pred))\n",
        "\n",
        "    # Append accuracy to results list\n",
        "    results.append({'Model': model_name, 'Accuracy': accuracy_score(y_test, y_pred)})\n",
        "\n",
        "# Create a DataFrame from the results\n",
        "df_results = pd.DataFrame(results)\n",
        "\n",
        "# Plot model performance comparison\n",
        "df_results.set_index(\"Model\").plot(kind=\"bar\", figsize=(10, 6), colormap=\"viridis\")\n",
        "plt.title(\"Model Performance Comparison\")\n",
        "plt.ylabel(\"Accuracy Score\")\n",
        "plt.xlabel(\"Model\")\n",
        "plt.ylim(0, 1)  # Ensure y-axis is between 0 and 1 for accuracy\n",
        "plt.xticks(rotation=15)\n",
        "plt.legend(loc=\"upper right\")\n",
        "plt.tight_layout()\n",
        "plt.show()\n"
      ],
      "metadata": {
        "colab": {
          "base_uri": "https://localhost:8080/",
          "height": 1000
        },
        "id": "fmF123Stq9Lj",
        "outputId": "69e038b0-a927-48b8-c408-9086c5eeeeca"
      },
      "execution_count": null,
      "outputs": [
        {
          "output_type": "stream",
          "name": "stdout",
          "text": [
            "\n",
            "--- Decision Tree ---\n",
            "              precision    recall  f1-score   support\n",
            "\n",
            "           0       0.82      0.77      0.80        88\n",
            "           1       0.83      0.87      0.85       116\n",
            "\n",
            "    accuracy                           0.83       204\n",
            "   macro avg       0.83      0.82      0.82       204\n",
            "weighted avg       0.83      0.83      0.83       204\n",
            "\n",
            "\n",
            "--- Logistic Regression ---\n",
            "              precision    recall  f1-score   support\n",
            "\n",
            "           0       0.82      0.81      0.81        88\n",
            "           1       0.85      0.86      0.86       116\n",
            "\n",
            "    accuracy                           0.84       204\n",
            "   macro avg       0.84      0.83      0.83       204\n",
            "weighted avg       0.84      0.84      0.84       204\n"
          ]
        },
        {
          "output_type": "stream",
          "name": "stderr",
          "text": [
            "/usr/local/lib/python3.10/dist-packages/sklearn/linear_model/_logistic.py:465: ConvergenceWarning: lbfgs failed to converge (status=1):\n",
            "STOP: TOTAL NO. of ITERATIONS REACHED LIMIT.\n",
            "\n",
            "Increase the number of iterations (max_iter) or scale the data as shown in:\n",
            "    https://scikit-learn.org/stable/modules/preprocessing.html\n",
            "Please also refer to the documentation for alternative solver options:\n",
            "    https://scikit-learn.org/stable/modules/linear_model.html#logistic-regression\n",
            "  n_iter_i = _check_optimize_result(\n"
          ]
        },
        {
          "output_type": "stream",
          "name": "stdout",
          "text": [
            "\n",
            "\n",
            "--- Random Forest ---\n",
            "              precision    recall  f1-score   support\n",
            "\n",
            "           0       0.87      0.82      0.84        88\n",
            "           1       0.87      0.91      0.89       116\n",
            "\n",
            "    accuracy                           0.87       204\n",
            "   macro avg       0.87      0.86      0.86       204\n",
            "weighted avg       0.87      0.87      0.87       204\n",
            "\n"
          ]
        },
        {
          "output_type": "display_data",
          "data": {
            "text/plain": [
              "<Figure size 1000x600 with 1 Axes>"
            ],
            "image/png": "[encoded data removed]"
          },
          "metadata": {}
        }
      ]
    },
    {
      "cell_type": "code",
      "source": [
        "# Feature names extracted from the dataframe\n",
        "feature_names = df.drop(columns=['HeartDisease']).columns.tolist()\n",
        "\n",
        "# Test cases with context and expected outcome\n",
        "test_cases = [\n",
        "    [40, 1, 1, 140, 180, 0, 172, 0, 0, 0, 1],  # Middle-aged Male, Normal Cholesterol, Heart Attack: No\n",
        "    [60, 0, 2, 120, 300, 1, 130, 1, 1.5, 2, 1],  # Elderly Female, High Cholesterol, Heart Attack: Yes\n",
        "    [30, 1, 3, 115, 160, 0, 120, 0, 0.0, 0, 0],  # Young Male, Normal Cholesterol, Heart Attack: No\n",
        "    [70, 0, 1, 160, 250, 0, 120, 1, 2.0, 1, 1],  # Elderly Female, High BP, Heart Attack: Yes\n",
        "    [45, 1, 0, 135, 200, 0, 150, 0, 0.5, 2, 0],  # Middle-aged Male, Normal Cholesterol, Heart Attack: No\n",
        "    [50, 1, 2, 145, 280, 1, 140, 1, 1.2, 1, 1],  # Middle-aged Male, High Cholesterol, Heart Attack: Yes\n",
        "    [25, 0, 1, 120, 170, 0, 180, 0, 0.0, 2, 0],  # Young Female, Normal Cholesterol, Heart Attack: No\n",
        "    [65, 1, 3, 150, 310, 1, 110, 1, 2.5, 0, 1],  # Elderly Male, Very High Cholesterol, Heart Attack: Yes\n",
        "    [35, 0, 0, 125, 190, 0, 160, 0, 0.8, 0, 0],  # Young Female, Normal BP, Heart Attack: No\n",
        "    [75, 1, 1, 170, 320, 1, 105, 1, 3.0, 1, 1]   # Elderly Male, Very High BP, Heart Attack: Yes\n",
        "]\n",
        "\n",
        "\n",
        "def test_cases_predictions(classifier, test_cases, feature_names, scaler=None, is_tree=False):\n",
        "    \"\"\"\n",
        "    Test the classifier on predefined test cases and include 'Heart Disease: Yes/No' in the output.\n",
        "    \"\"\"\n",
        "    print(f\"\\nTesting with {classifier.__class__.__name__}\")\n",
        "    for i, case in enumerate(test_cases, start=1):\n",
        "        print(f\"\\nTest Case {i}: {dict(zip(feature_names, case))}\")\n",
        "        user_input = np.array(case).reshape(1, -1)\n",
        "\n",
        "        # Scale for Logistic Regression if needed\n",
        "        if not is_tree and scaler is not None:\n",
        "            user_input = scaler.transform(user_input)\n",
        "\n",
        "        # Predict\n",
        "        prediction = classifier.predict(user_input)\n",
        "\n",
        "        # Probabilities (if supported)\n",
        "        if hasattr(classifier, \"predict_proba\"):\n",
        "            probabilities = classifier.predict_proba(user_input)[0]\n",
        "            prob_heart_disease = probabilities[1] * 100\n",
        "            prob_no_heart_disease = probabilities[0] * 100\n",
        "            print(f\"Probability of Heart Disease: {prob_heart_disease:.2f}%\")\n",
        "            print(f\"Probability of No Heart Disease: {prob_no_heart_disease:.2f}%\")\n",
        "\n",
        "        # Display prediction\n",
        "        if prediction[0] == 1:\n",
        "            print(\"Prediction: At risk of Heart Disease.\")\n",
        "            print(\"Heart Disease: Yes\")\n",
        "        else:\n",
        "            print(\"Prediction: NOT at risk of Heart Disease.\")\n",
        "            print(\"Heart Disease: No\")\n",
        "\n",
        "test_cases_predictions(classifier_rf, test_cases, feature_names, is_tree=True)"
      ],
      "metadata": {
        "colab": {
          "base_uri": "https://localhost:8080/"
        },
        "id": "D4RgTeYRjdKj",
        "outputId": "ddbf516f-28a2-46e9-85c6-b4add998bbb7"
      },
      "execution_count": null,
      "outputs": [
        {
          "output_type": "stream",
          "name": "stdout",
          "text": [
            "\n",
            "Testing with RandomForestClassifier\n",
            "\n",
            "Test Case 1: {'Age': 40, 'Sex': 1, 'ChestPainType': 1, 'RestingBP': 140, 'Cholesterol': 999, 'FastingBS': 0, 'RestingECG': 999, 'MaxHR': 0, 'ExerciseAngina': 0, 'Oldpeak': 0, 'ST_Slope': 1}\n",
            "Probability of Heart Disease: 53.73%\n",
            "Probability of No Heart Disease: 46.27%\n",
            "Prediction: At risk of Heart Disease.\n",
            "Heart Disease: Yes\n",
            "\n",
            "Test Case 2: {'Age': 60, 'Sex': 0, 'ChestPainType': 2, 'RestingBP': 120, 'Cholesterol': 300, 'FastingBS': 1, 'RestingECG': 130, 'MaxHR': 1, 'ExerciseAngina': 1.5, 'Oldpeak': 2, 'ST_Slope': 1}\n",
            "Probability of Heart Disease: 74.29%\n",
            "Probability of No Heart Disease: 25.71%\n",
            "Prediction: At risk of Heart Disease.\n",
            "Heart Disease: Yes\n",
            "\n",
            "Test Case 3: {'Age': 30, 'Sex': 1, 'ChestPainType': 3, 'RestingBP': 115, 'Cholesterol': 160, 'FastingBS': 0, 'RestingECG': 130, 'MaxHR': 0, 'ExerciseAngina': 0.0, 'Oldpeak': 0, 'ST_Slope': 0}\n",
            "Probability of Heart Disease: 54.30%\n",
            "Probability of No Heart Disease: 45.70%\n",
            "Prediction: At risk of Heart Disease.\n",
            "Heart Disease: Yes\n",
            "\n",
            "Test Case 4: {'Age': 70, 'Sex': 0, 'ChestPainType': 1, 'RestingBP': 160, 'Cholesterol': 250, 'FastingBS': 0, 'RestingECG': 120, 'MaxHR': 1, 'ExerciseAngina': 2.0, 'Oldpeak': 1, 'ST_Slope': 1}\n",
            "Probability of Heart Disease: 75.65%\n",
            "Probability of No Heart Disease: 24.35%\n",
            "Prediction: At risk of Heart Disease.\n",
            "Heart Disease: Yes\n",
            "\n",
            "Test Case 5: {'Age': 45, 'Sex': 1, 'ChestPainType': 0, 'RestingBP': 135, 'Cholesterol': 200, 'FastingBS': 0, 'RestingECG': 150, 'MaxHR': 0, 'ExerciseAngina': 0.5, 'Oldpeak': 2, 'ST_Slope': 0}\n",
            "Probability of Heart Disease: 80.36%\n",
            "Probability of No Heart Disease: 19.64%\n",
            "Prediction: At risk of Heart Disease.\n",
            "Heart Disease: Yes\n",
            "\n",
            "Test Case 6: {'Age': 50, 'Sex': 1, 'ChestPainType': 2, 'RestingBP': 145, 'Cholesterol': 280, 'FastingBS': 1, 'RestingECG': 140, 'MaxHR': 1, 'ExerciseAngina': 1.2, 'Oldpeak': 1, 'ST_Slope': 1}\n",
            "Probability of Heart Disease: 81.79%\n",
            "Probability of No Heart Disease: 18.21%\n",
            "Prediction: At risk of Heart Disease.\n",
            "Heart Disease: Yes\n",
            "\n",
            "Test Case 7: {'Age': 25, 'Sex': 0, 'ChestPainType': 1, 'RestingBP': 120, 'Cholesterol': 170, 'FastingBS': 0, 'RestingECG': 180, 'MaxHR': 0, 'ExerciseAngina': 0.0, 'Oldpeak': 2, 'ST_Slope': 0}\n",
            "Probability of Heart Disease: 52.18%\n",
            "Probability of No Heart Disease: 47.82%\n",
            "Prediction: At risk of Heart Disease.\n",
            "Heart Disease: Yes\n",
            "\n",
            "Test Case 8: {'Age': 65, 'Sex': 1, 'ChestPainType': 3, 'RestingBP': 150, 'Cholesterol': 310, 'FastingBS': 1, 'RestingECG': 110, 'MaxHR': 1, 'ExerciseAngina': 2.5, 'Oldpeak': 0, 'ST_Slope': 1}\n",
            "Probability of Heart Disease: 81.85%\n",
            "Probability of No Heart Disease: 18.15%\n",
            "Prediction: At risk of Heart Disease.\n",
            "Heart Disease: Yes\n",
            "\n",
            "Test Case 9: {'Age': 35, 'Sex': 0, 'ChestPainType': 0, 'RestingBP': 125, 'Cholesterol': 190, 'FastingBS': 0, 'RestingECG': 160, 'MaxHR': 0, 'ExerciseAngina': 0.8, 'Oldpeak': 0, 'ST_Slope': 0}\n",
            "Probability of Heart Disease: 64.02%\n",
            "Probability of No Heart Disease: 35.98%\n",
            "Prediction: At risk of Heart Disease.\n",
            "Heart Disease: Yes\n",
            "\n",
            "Test Case 10: {'Age': 75, 'Sex': 1, 'ChestPainType': 1, 'RestingBP': 170, 'Cholesterol': 320, 'FastingBS': 1, 'RestingECG': 105, 'MaxHR': 1, 'ExerciseAngina': 3.0, 'Oldpeak': 1, 'ST_Slope': 1}\n",
            "Probability of Heart Disease: 75.06%\n",
            "Probability of No Heart Disease: 24.94%\n",
            "Prediction: At risk of Heart Disease.\n",
            "Heart Disease: Yes\n"
          ]
        }
      ]
    }
  ],
  "metadata": {
    "accelerator": "GPU",
    "colab": {
      "gpuType": "T4",
      "provenance": [],
      "authorship_tag": "ABX9TyO5YnTdh4roqEogWm9xIcb4",
      "include_colab_link": true
    },
    "kernelspec": {
      "display_name": "Python 3",
      "name": "python3"
    },
    "language_info": {
      "name": "python"
    }
  },
  "nbformat": 4,
  "nbformat_minor": 0
}